{
 "cells": [
  {
   "cell_type": "markdown",
   "id": "c471fb47",
   "metadata": {},
   "source": [
    "**1).Write a Python Program to Find LCM?**"
   ]
  },
  {
   "cell_type": "markdown",
   "id": "9419dd1b",
   "metadata": {},
   "source": [
    "LCM is nothing but least common multiplier between two numbers"
   ]
  },
  {
   "cell_type": "code",
   "execution_count": 5,
   "id": "3ec913d7",
   "metadata": {},
   "outputs": [
    {
     "name": "stdout",
     "output_type": "stream",
     "text": [
      "Enter the 1st number : 12\n",
      "Enter the 2nd number : 20\n",
      "lcm of 12 and 20 is : 60 \n"
     ]
    }
   ],
   "source": [
    "def lcm(x,y):\n",
    "    if x > y:\n",
    "        greater = x\n",
    "    else:\n",
    "        greater = y\n",
    "    while True:\n",
    "        if (greater % x == 0) and (greater % y == 0):\n",
    "            lcm = greater\n",
    "            break\n",
    "        greater += 1\n",
    "    return lcm\n",
    "\n",
    "x = int(input(\"Enter the 1st number : \"))\n",
    "y = int(input(\"Enter the 2nd number : \"))\n",
    "\n",
    "print(f\"lcm of {x} and {y} is : {lcm(x,y)} \")"
   ]
  },
  {
   "cell_type": "markdown",
   "id": "7ec15e99",
   "metadata": {},
   "source": [
    "**2).Write a Python Program to Find HCF?**"
   ]
  },
  {
   "cell_type": "markdown",
   "id": "04314af0",
   "metadata": {},
   "source": [
    "Highest Common Factor or Greatest Common Divisor of two or more integers when at least one of them is not zero is the largest positive integer that evenly divides the numbers without a remainder. For example, the GCD of 8 and 12 is 4."
   ]
  },
  {
   "cell_type": "code",
   "execution_count": 1,
   "id": "a3aae441",
   "metadata": {},
   "outputs": [
    {
     "name": "stdout",
     "output_type": "stream",
     "text": [
      "Enter 1st number : 8\n",
      "Enter 2nd number : 12\n",
      "the hcf of 8 and 12 is 4\n"
     ]
    }
   ],
   "source": [
    "def hcf(x,y):\n",
    "    if x > y:\n",
    "        smaller = y\n",
    "    else:\n",
    "        smaller = x\n",
    "    for i in range(1,smaller+1):\n",
    "        if (x % i == 0) and (y % i == 0):\n",
    "            hcf = i\n",
    "    return hcf\n",
    "\n",
    "x = int(input(\"Enter 1st number : \"))\n",
    "y = int(input(\"Enter 2nd number : \"))\n",
    "\n",
    "print(f\"the hcf of {x} and {y} is {hcf(x,y)}\")"
   ]
  },
  {
   "cell_type": "markdown",
   "id": "a818ce9c",
   "metadata": {},
   "source": [
    "**3).Write a Python Program to Convert Decimal to Binary, Octal and Hexadecimal?**"
   ]
  },
  {
   "cell_type": "markdown",
   "id": "774873fa",
   "metadata": {},
   "source": [
    "Decimal System: The most widely used number system is decimal system. This system is base 10 number system. In this system, ten numbers (0-9) are used to represent a number.\n",
    "\n",
    "Binary System: Binary system is base 2 number system. Binary system is used because computers only understand binary numbers (0 and 1).\n",
    "\n",
    "Octal System: Octal system is base 8 number system.\n",
    "\n",
    "Hexadecimal System: Hexadecimal system is base 16 number system.\n",
    "\n",
    "This program is written to convert decimal to binary, octal and hexadecimal."
   ]
  },
  {
   "cell_type": "code",
   "execution_count": 8,
   "id": "e083cf91",
   "metadata": {},
   "outputs": [
    {
     "name": "stdout",
     "output_type": "stream",
     "text": [
      "Enter the decimal value : 15\n",
      "15 decimal number is equivalent to 0b1111 binary number\n",
      "15 decimal number is equivalent to 0o17 octal number\n",
      "15 decimal number is equivalent to 0xf hexa number\n"
     ]
    }
   ],
   "source": [
    "decimal = int(input(\"Enter the decimal value : \"))\n",
    "\n",
    "print(f\"{decimal} decimal number is equivalent to {bin(decimal)} binary number\")\n",
    "print(f\"{decimal} decimal number is equivalent to {oct(decimal)} octal number\")\n",
    "print(f\"{decimal} decimal number is equivalent to {hex(decimal)} hexa number\")"
   ]
  },
  {
   "cell_type": "markdown",
   "id": "ed75f2b8",
   "metadata": {},
   "source": [
    "**4).Write a Python Program To Find ASCII value of a character?**"
   ]
  },
  {
   "cell_type": "markdown",
   "id": "7995a021",
   "metadata": {},
   "source": [
    "ASCII: ASCII is an acronym stands for American Standard Code for Information Interchange. In ASCII, a specific numerical value is given to different characters and symbols, for computers to store and manipulate."
   ]
  },
  {
   "cell_type": "code",
   "execution_count": 11,
   "id": "1c894770",
   "metadata": {},
   "outputs": [
    {
     "name": "stdout",
     "output_type": "stream",
     "text": [
      "Enter a character : A\n",
      "the ASCII value of A is 65\n"
     ]
    }
   ],
   "source": [
    "char = input(\"Enter a character : \")\n",
    "print(f\"the ASCII value of {char} is {ord(char)}\")"
   ]
  },
  {
   "cell_type": "markdown",
   "id": "5e6671bf",
   "metadata": {},
   "source": [
    "**5).Write a Python Program to Make a Simple Calculator with 4 basic mathematical operations?**"
   ]
  },
  {
   "cell_type": "code",
   "execution_count": 20,
   "id": "bf37f527",
   "metadata": {},
   "outputs": [
    {
     "name": "stdout",
     "output_type": "stream",
     "text": [
      "select operation : \n",
      "\t1 for addition\n",
      "\t2 for subtract\n",
      "\t3 for multiply\n",
      "\t4 for dividion\n",
      "Entera choice 1/2/3/4 : 3\n",
      "Enter 1st number : 4\n",
      "Enter 2nd number : 9\n",
      "4 x 9 = 36\n"
     ]
    }
   ],
   "source": [
    "def add(x,y):\n",
    "    \"\"\"it adds two numbers\"\"\"\n",
    "    return x + y\n",
    "def subtract(x,y):\n",
    "    \"\"\"it subtracts two numbers\"\"\"\n",
    "    return x - y\n",
    "def multiply(x,y):\n",
    "    \"\"\"it multiply two numbers\"\"\"\n",
    "    return x * y\n",
    "def divid(x,y):\n",
    "    \"\"\"it divides two numbers\"\"\"\n",
    "    return x / y\n",
    "\n",
    "print(\"select operation : \\n\\t1 for addition\\n\\t2 for subtract\\n\\t3 for multiply\\n\\t4 for dividion\")\n",
    "\n",
    "choice = int(input(\"Entera choice 1/2/3/4 : \"))\n",
    "num1 = int(input(\"Enter 1st number : \"))\n",
    "num2 = int(input(\"Enter 2nd number : \"))\n",
    "\n",
    "if choice == 1:\n",
    "    print(f\"{num1} + {num2} = {add(num1,num2)}\")\n",
    "    \n",
    "elif choice == 2:\n",
    "    print(f\"{num1} - {num2} = {subtract(num1,num2)}\")\n",
    "    \n",
    "elif choice == 3:\n",
    "    print(f\"{num1} x {num2} = {multiply(num1,num2)}\")\n",
    "    \n",
    "elif choice == 4:\n",
    "    print(f\"{num1} / {num2} = {divid(num1,num2)}\")\n",
    "else:\n",
    "    print(\"invalid number\")\n",
    "    "
   ]
  },
  {
   "cell_type": "code",
   "execution_count": null,
   "id": "b12f6090",
   "metadata": {},
   "outputs": [],
   "source": []
  },
  {
   "cell_type": "code",
   "execution_count": null,
   "id": "424a7270",
   "metadata": {},
   "outputs": [],
   "source": []
  }
 ],
 "metadata": {
  "kernelspec": {
   "display_name": "Python 3",
   "language": "python",
   "name": "python3"
  },
  "language_info": {
   "codemirror_mode": {
    "name": "ipython",
    "version": 3
   },
   "file_extension": ".py",
   "mimetype": "text/x-python",
   "name": "python",
   "nbconvert_exporter": "python",
   "pygments_lexer": "ipython3",
   "version": "3.8.8"
  }
 },
 "nbformat": 4,
 "nbformat_minor": 5
}
