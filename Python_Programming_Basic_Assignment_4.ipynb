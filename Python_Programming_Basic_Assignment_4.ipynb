{
 "cells": [
  {
   "cell_type": "markdown",
   "id": "2c7dffbd",
   "metadata": {},
   "source": [
    "**1).Write a Python Program to Find the Factorial of a Number?**"
   ]
  },
  {
   "cell_type": "markdown",
   "id": "d3c0af1c",
   "metadata": {},
   "source": [
    "factorial of n = n! = n*(n-1)*(n-2)*(n-3).......1 upto getting value 1\n",
    "\n",
    "factorial of 0 and 1 is 1\n",
    "\n",
    "factorial does not exists for negative numbers"
   ]
  },
  {
   "cell_type": "code",
   "execution_count": 12,
   "id": "cf680b63",
   "metadata": {},
   "outputs": [
    {
     "name": "stdout",
     "output_type": "stream",
     "text": [
      "Enter a number to find factorial : 5\n",
      "factorial of 5 is 120\n"
     ]
    }
   ],
   "source": [
    "num = int(input(\"Enter a number to find factorial : \"))\n",
    "factorial = 1\n",
    "\n",
    "if num < 0:\n",
    "    print(\"factorial does not exist for negative numbers\")\n",
    "elif num == 0:\n",
    "    print(\"factorial of %s is 1\"%(num))\n",
    "else:\n",
    "    for i in range(1,num+1):\n",
    "        factorial = factorial*i\n",
    "    print(\"factorial of {0} is {1}\".format(num,factorial))"
   ]
  },
  {
   "cell_type": "markdown",
   "id": "b4fad726",
   "metadata": {},
   "source": [
    "**2).Write a Python Program to Display the multiplication Table?**"
   ]
  },
  {
   "cell_type": "code",
   "execution_count": 18,
   "id": "b60c6c94",
   "metadata": {},
   "outputs": [
    {
     "name": "stdout",
     "output_type": "stream",
     "text": [
      "Enter a number for multiplication table : 17\n",
      "17 x 1 = 17\n",
      "17 x 2 = 34\n",
      "17 x 3 = 51\n",
      "17 x 4 = 68\n",
      "17 x 5 = 85\n",
      "17 x 6 = 102\n",
      "17 x 7 = 119\n",
      "17 x 8 = 136\n",
      "17 x 9 = 153\n",
      "17 x 10 = 170\n"
     ]
    }
   ],
   "source": [
    "num = int(input(\"Enter a number for multiplication table : \"))\n",
    "\n",
    "for i in range(1,11):\n",
    "    print(\"%s x %s = %s\"%(num,i, num*i))"
   ]
  },
  {
   "cell_type": "markdown",
   "id": "f26c6d82",
   "metadata": {},
   "source": [
    "**3).Write a Python Program to Print the Fibonacci sequence?**"
   ]
  },
  {
   "cell_type": "code",
   "execution_count": 45,
   "id": "e8913167",
   "metadata": {},
   "outputs": [
    {
     "name": "stdout",
     "output_type": "stream",
     "text": [
      "Enter a numbers of sequence : 10\n",
      "fabonacci sequence : \n",
      "0 , 1,1,2,3,5,8,13,21,34,"
     ]
    }
   ],
   "source": [
    "seq_terms = int(input(\"Enter a numbers of sequence : \"))\n",
    "num1 = 0\n",
    "num2 = 1\n",
    "count = 2\n",
    "if seq_terms <= 0:\n",
    "    print(\"please enter a positive number\")\n",
    "elif seq_terms == 1:\n",
    "    print(\"fabonacci sequence: %s\"%(num1))\n",
    "else:\n",
    "    print(\"fabonacci sequence : \")\n",
    "    print(num1,\",\",num2,end=\",\")\n",
    "    while count < seq_terms:\n",
    "        nth = num1 + num2\n",
    "        print(nth,end=\",\")\n",
    "        num1 = num2\n",
    "        num2 = nth\n",
    "        count += 1"
   ]
  },
  {
   "cell_type": "markdown",
   "id": "e6b29da3",
   "metadata": {},
   "source": [
    "**4).Write a Python Program to Check Armstrong Number?**"
   ]
  },
  {
   "cell_type": "markdown",
   "id": "872a6df8",
   "metadata": {},
   "source": [
    "Armstrong number:\n",
    "\n",
    "A number is called Armstrong number if it is equal to the sum of the cubes of its own digits.\n",
    "\n",
    "For example: 153 is an Armstrong number since 153 = 1 * 1 * 1 + 5 * 5 * 5 + 3 * 3 * 3.\n",
    "(or) 1 ** 3 + 5 ** 3 + 3 ** 3"
   ]
  },
  {
   "cell_type": "code",
   "execution_count": 20,
   "id": "1debcd13",
   "metadata": {},
   "outputs": [
    {
     "name": "stdout",
     "output_type": "stream",
     "text": [
      "Enter a number: 407\n",
      "407 is a armstrong number\n"
     ]
    }
   ],
   "source": [
    "num = int(input(\"Enter a number: \"))  \n",
    "summ = 0  \n",
    "temp = num  \n",
    "  \n",
    "while temp > 0:  \n",
    "    digit = temp % 10  \n",
    "    summ += (digit ** 3)  \n",
    "    temp //= 10  \n",
    "if num == summ:\n",
    "    print(\"%s is a armstrong number\"%(num))\n",
    "else:\n",
    "    print(\"%s is not a armstrong number\"%(num))"
   ]
  },
  {
   "cell_type": "markdown",
   "id": "82ad1651",
   "metadata": {},
   "source": [
    "**5).Write a Python Program to Find Armstrong Number in an Interval?**"
   ]
  },
  {
   "cell_type": "code",
   "execution_count": 34,
   "id": "76ac3dc2",
   "metadata": {},
   "outputs": [
    {
     "name": "stdout",
     "output_type": "stream",
     "text": [
      "Enter lower range: 100\n",
      "Enter upper range: 500\n",
      "125\n",
      "153\n",
      "216\n",
      "370\n",
      "371\n",
      "407\n"
     ]
    }
   ],
   "source": [
    "num1 = int(input(\"Enter lower range: \"))  \n",
    "num2 = int(input(\"Enter upper range: \"))\n",
    "\n",
    "for num in range(num1,num2 + 1):\n",
    "    summ = 0\n",
    "    temp = num\n",
    "    while temp > 0:\n",
    "        digit = temp % 10\n",
    "        summ += digit ** 3\n",
    "        temp //= 10\n",
    "        if num == summ:\n",
    "            print(num)"
   ]
  },
  {
   "cell_type": "markdown",
   "id": "fa113fdc",
   "metadata": {},
   "source": [
    "**6).Write a Python Program to Find the Sum of Natural Numbers?**"
   ]
  },
  {
   "cell_type": "code",
   "execution_count": 37,
   "id": "6c62a581",
   "metadata": {},
   "outputs": [
    {
     "name": "stdout",
     "output_type": "stream",
     "text": [
      "Enter a number: 5\n",
      "The sum is 15\n"
     ]
    }
   ],
   "source": [
    "num = int(input(\"Enter a number: \"))  \n",
    "  \n",
    "if num < 0:  \n",
    "    print(\"Enter a positive number\")  \n",
    "else:  \n",
    "    sum = 0  \n",
    "   # use while loop to iterate un till zero  \n",
    "    while(num > 0):  \n",
    "        sum += num  \n",
    "        num -= 1  \n",
    "    print(\"The sum is\",sum)  "
   ]
  },
  {
   "cell_type": "code",
   "execution_count": null,
   "id": "3a89f0c1",
   "metadata": {},
   "outputs": [],
   "source": []
  }
 ],
 "metadata": {
  "kernelspec": {
   "display_name": "Python 3",
   "language": "python",
   "name": "python3"
  },
  "language_info": {
   "codemirror_mode": {
    "name": "ipython",
    "version": 3
   },
   "file_extension": ".py",
   "mimetype": "text/x-python",
   "name": "python",
   "nbconvert_exporter": "python",
   "pygments_lexer": "ipython3",
   "version": "3.8.8"
  }
 },
 "nbformat": 4,
 "nbformat_minor": 5
}
