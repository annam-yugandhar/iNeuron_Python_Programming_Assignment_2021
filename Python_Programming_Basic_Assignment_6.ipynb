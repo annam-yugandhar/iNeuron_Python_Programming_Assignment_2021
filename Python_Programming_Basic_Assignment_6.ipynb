{
 "cells": [
  {
   "cell_type": "markdown",
   "id": "be7784b4",
   "metadata": {},
   "source": [
    "**1).Write a Python Program to Display Fibonacci Sequence Using Recursion?**"
   ]
  },
  {
   "cell_type": "code",
   "execution_count": 25,
   "id": "c1fad295",
   "metadata": {},
   "outputs": [
    {
     "name": "stdout",
     "output_type": "stream",
     "text": [
      "please Enter a valid number of terms : 5\n",
      "fabonacci sequence : \n",
      "[0, 1, 1, 2, 3]\n"
     ]
    }
   ],
   "source": [
    "def recur_fabonacci(n):\n",
    "    if n <= 1:\n",
    "        return n\n",
    "    else:\n",
    "        return (recur_fabonacci(n-1) + recur_fabonacci(n-2))\n",
    "nterm = int(input(\"please Enter a valid number of terms : \"))\n",
    "if nterm < 0:\n",
    "    print(\"please enter a positive number\")\n",
    "else:\n",
    "    print(\"fabonacci sequence : \")\n",
    "    l = []\n",
    "    for i in range(nterm):\n",
    "        l.append(recur_fabonacci(i))\n",
    "    print(l)"
   ]
  },
  {
   "cell_type": "markdown",
   "id": "267076ee",
   "metadata": {},
   "source": [
    "**2).Write a Python Program to Find Factorial of Number Using Recursion?**"
   ]
  },
  {
   "cell_type": "markdown",
   "id": "e3fef03b",
   "metadata": {},
   "source": [
    "factorial of n = n! = n * (n-1) * (n-2) * ....1 upto getting value 1"
   ]
  },
  {
   "cell_type": "code",
   "execution_count": 26,
   "id": "ece44d5a",
   "metadata": {},
   "outputs": [
    {
     "name": "stdout",
     "output_type": "stream",
     "text": [
      "please enter a number : 5\n",
      "factorial of 5 is 120. \n"
     ]
    }
   ],
   "source": [
    "def recur_factorial(n):\n",
    "    if n == 1:\n",
    "        return n\n",
    "    else:\n",
    "        return n*recur_factorial(n-1)\n",
    "    \n",
    "n = int(input(\"please enter a number : \"))\n",
    "if n < 0:\n",
    "    print(\"factorial does not exist for negative numbers\")\n",
    "elif n == 0:\n",
    "    print(\"factorial of 0 is 1\")\n",
    "else:\n",
    "    print(\"factorial of %s is %s. \"%(n,recur_factorial(n)))\n",
    "        \n",
    "    "
   ]
  },
  {
   "cell_type": "markdown",
   "id": "84d916a4",
   "metadata": {},
   "source": [
    "**3).Write a Python Program to calculate your Body Mass Index?**"
   ]
  },
  {
   "cell_type": "code",
   "execution_count": 11,
   "id": "0d305471",
   "metadata": {},
   "outputs": [
    {
     "name": "stdout",
     "output_type": "stream",
     "text": [
      "Enter the value of height in meter's : 1.25\n",
      "Enter the value of weight in KG's : 95\n",
      "your bmi is 60.8\n",
      "you are in morbid obesity\n"
     ]
    }
   ],
   "source": [
    "h = float(input(\"Enter the value of height in meter's : \"))\n",
    "w = float(input(\"Enter the value of weight in KG's : \"))\n",
    "bmi = w / h ** 2\n",
    "print(\"your bmi is %s\"%(bmi))\n",
    "if bmi <= 18.5:\n",
    "    print(\"you are in under weight.\")\n",
    "elif (bmi > 18.5) and (bmi < 24.9):\n",
    "    print(\"you are in normal weight.\")\n",
    "elif (bmi > 25) and (bmi < 29.9):\n",
    "    print(\"you are in over weight.\")\n",
    "elif (bmi > 30) and (bmi < 34.9):\n",
    "    print(\"you are in obesity.\")\n",
    "elif (bmi > 35) and (bmi < 39.9):\n",
    "    print(\"you are in over obesity.\")\n",
    "else:\n",
    "    print(\"you are in morbid obesity\")"
   ]
  },
  {
   "cell_type": "markdown",
   "id": "acb9c5dc",
   "metadata": {},
   "source": [
    "**4).Write a Python Program to calculate the natural logarithm of any number?**"
   ]
  },
  {
   "cell_type": "code",
   "execution_count": 14,
   "id": "aa709a34",
   "metadata": {},
   "outputs": [
    {
     "name": "stdout",
     "output_type": "stream",
     "text": [
      "Enter a number to find natural logaritham : 10\n",
      "2.302585092994046\n"
     ]
    }
   ],
   "source": [
    "import math as m\n",
    "num = int(input(\"Enter a number to find natural logaritham : \"))\n",
    "logg = m.log(num)\n",
    "print(logg)"
   ]
  },
  {
   "cell_type": "markdown",
   "id": "5695006a",
   "metadata": {},
   "source": [
    "**5).Write a Python Program for cube sum of first n natural numbers?**"
   ]
  },
  {
   "cell_type": "markdown",
   "id": "d37b38c6",
   "metadata": {},
   "source": [
    "formula for first n natural numbers = (n(n+1))/2"
   ]
  },
  {
   "cell_type": "code",
   "execution_count": 25,
   "id": "5c522cd3",
   "metadata": {},
   "outputs": [
    {
     "name": "stdout",
     "output_type": "stream",
     "text": [
      "enter a natural number : 7\n",
      "sum of n first natural numbers : 28.0\n"
     ]
    }
   ],
   "source": [
    "num = int(input(\"enter a natural number : \"))\n",
    "natural_number = (num*(num+1)) / 2\n",
    "print(\"sum of n first natural numbers : %s\"%(natural_number))"
   ]
  },
  {
   "cell_type": "markdown",
   "id": "d1b35d09",
   "metadata": {},
   "source": [
    "formulae for cube sum of first n natural numbers = (n(n+1)/2) ** 2"
   ]
  },
  {
   "cell_type": "code",
   "execution_count": 26,
   "id": "db0f5dfd",
   "metadata": {},
   "outputs": [
    {
     "name": "stdout",
     "output_type": "stream",
     "text": [
      "enter a natural number : 7\n",
      " cube sum of n first natural numbers : 784.0\n"
     ]
    }
   ],
   "source": [
    "num = int(input(\"enter a natural number : \"))\n",
    "cube_natural_number = ((num*(num+1)) / 2) ** 2\n",
    "print(\" cube sum of n first natural numbers : %s\"%(cube_natural_number))"
   ]
  },
  {
   "cell_type": "code",
   "execution_count": null,
   "id": "9ba34852",
   "metadata": {},
   "outputs": [],
   "source": []
  }
 ],
 "metadata": {
  "kernelspec": {
   "display_name": "Python 3",
   "language": "python",
   "name": "python3"
  },
  "language_info": {
   "codemirror_mode": {
    "name": "ipython",
    "version": 3
   },
   "file_extension": ".py",
   "mimetype": "text/x-python",
   "name": "python",
   "nbconvert_exporter": "python",
   "pygments_lexer": "ipython3",
   "version": "3.8.8"
  }
 },
 "nbformat": 4,
 "nbformat_minor": 5
}
