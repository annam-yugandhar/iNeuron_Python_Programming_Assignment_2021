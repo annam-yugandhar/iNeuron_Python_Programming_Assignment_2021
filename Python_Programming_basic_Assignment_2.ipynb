{
 "cells": [
  {
   "cell_type": "markdown",
   "id": "e85d9276",
   "metadata": {},
   "source": [
    "**1).Write a Python program to convert kilometers to miles?**"
   ]
  },
  {
   "cell_type": "code",
   "execution_count": 4,
   "id": "61a1b0e6",
   "metadata": {},
   "outputs": [
    {
     "name": "stdout",
     "output_type": "stream",
     "text": [
      "Pleas Enter how many kilometers you want to convert into miles : 10\n",
      "10.0 kilometers is equal to 6.21371\n"
     ]
    }
   ],
   "source": [
    "# 1 kilometer = 0.62137 miles\n",
    "\n",
    "kilometers = float(input(\"Pleas Enter how many kilometers you want to convert into miles : \"))\n",
    "conversion_factor = 0.621371\n",
    "miles = kilometers * conversion_factor\n",
    "print(\"%s kilometers is equal to %s\"%(kilometers,miles))"
   ]
  },
  {
   "cell_type": "markdown",
   "id": "eff72eb9",
   "metadata": {},
   "source": [
    "**2).Write a Python program to convert Celsius to Fahrenheit?**"
   ]
  },
  {
   "cell_type": "markdown",
   "id": "a112ff3b",
   "metadata": {},
   "source": [
    "celsius and fahrenheit are temperature measurements that are used in people for measureing the temperature\n",
    "\n",
    "T(℉) = T(℃) x 9/5 + 32   (or)  T(℉) = T(℃) x 1.8 + 32\n",
    "\n",
    "this is the formulae for converting celsius to fahrenheit"
   ]
  },
  {
   "cell_type": "code",
   "execution_count": 9,
   "id": "b40ae263",
   "metadata": {},
   "outputs": [
    {
     "name": "stdout",
     "output_type": "stream",
     "text": [
      "Enter the temperature in celsius : 37\n",
      "37.0 celsius is equal to 98.60000000000001 degree fahrenheit\n"
     ]
    }
   ],
   "source": [
    "# take floating point input in celsius\n",
    "\n",
    "celsius = float(input(\"Enter the temperature in celsius : \"))\n",
    "fahrenheit = (celsius * 1.8) + 32\n",
    "print(\"%s celsius is equal to %s degree fahrenheit\"%(celsius,fahrenheit))"
   ]
  },
  {
   "cell_type": "markdown",
   "id": "f79e1a3e",
   "metadata": {},
   "source": [
    "**3).Write a Python program to display calendar?**"
   ]
  },
  {
   "cell_type": "code",
   "execution_count": 10,
   "id": "13f72d2c",
   "metadata": {},
   "outputs": [
    {
     "name": "stdout",
     "output_type": "stream",
     "text": [
      "Enter the year you want to see in calender : 2021\n",
      "Enter the month you want to see in calender : 06\n",
      "     June 2021\n",
      "Mo Tu We Th Fr Sa Su\n",
      "    1  2  3  4  5  6\n",
      " 7  8  9 10 11 12 13\n",
      "14 15 16 17 18 19 20\n",
      "21 22 23 24 25 26 27\n",
      "28 29 30\n",
      "\n"
     ]
    }
   ],
   "source": [
    "import calendar\n",
    "yy = int(input(\"Enter the year you want to see in calender : \"))\n",
    "mm = int(input(\"Enter the month you want to see in calender : \"))\n",
    "print(calendar.month(yy,mm))"
   ]
  },
  {
   "cell_type": "markdown",
   "id": "e38f0ab2",
   "metadata": {},
   "source": [
    "**4).Write a Python program to solve quadratic equation?**"
   ]
  },
  {
   "cell_type": "markdown",
   "id": "1213ffbc",
   "metadata": {},
   "source": [
    "expression for quadratic equation is = ax^2+bx+c\n",
    "and after solving this equation we get two solutions i.e."
   ]
  },
  {
   "cell_type": "code",
   "execution_count": 15,
   "id": "c4bbae41",
   "metadata": {},
   "outputs": [
    {
     "name": "stdout",
     "output_type": "stream",
     "text": [
      "Enter the value of a : 8\n",
      "Enter the value of b : 5\n",
      "Enter the value of c : 9\n",
      "the solutions are (-0.3125-1.0135796712641785j) and (-0.3125+1.0135796712641785j).\n"
     ]
    }
   ],
   "source": [
    "a = float(input(\"Enter the value of a : \"))\n",
    "b = float(input(\"Enter the value of b : \"))\n",
    "c = float(input(\"Enter the value of c : \"))\n",
    "\n",
    "d = (b**2) - (4*a*c)\n",
    "\n",
    "import cmath\n",
    "\n",
    "sol1 = (-b-cmath.sqrt(d))/(2*a)\n",
    "sol2 = (-b+cmath.sqrt(d))/(2*a)\n",
    "\n",
    "print(\"the solutions are %s and %s.\"%(sol1,sol2))"
   ]
  },
  {
   "cell_type": "markdown",
   "id": "19be451b",
   "metadata": {},
   "source": [
    "**5).Write a Python program to swap two variables without temp variable?**"
   ]
  },
  {
   "cell_type": "code",
   "execution_count": 17,
   "id": "7568c440",
   "metadata": {},
   "outputs": [
    {
     "name": "stdout",
     "output_type": "stream",
     "text": [
      "Enter the value of X : 23\n",
      "Enter the value of y : 28\n",
      "values of x and y before swapping: 23 and 28\n",
      "values of x and  y after swapping: 28 and 23\n"
     ]
    }
   ],
   "source": [
    "x = int(input(\"Enter the value of X : \"))\n",
    "y = int(input(\"Enter the value of y : \"))\n",
    "print(\"values of x and y before swapping: %s and %s\"%(x,y))\n",
    "\n",
    "# swap the variable without using temp variable\n",
    "x = x + y\n",
    "y = x - y\n",
    "x = x - y\n",
    "print(\"values of x and  y after swapping: %s and %s\"%(x,y))"
   ]
  },
  {
   "cell_type": "code",
   "execution_count": null,
   "id": "81b2dfa9",
   "metadata": {},
   "outputs": [],
   "source": []
  }
 ],
 "metadata": {
  "kernelspec": {
   "display_name": "Python 3",
   "language": "python",
   "name": "python3"
  },
  "language_info": {
   "codemirror_mode": {
    "name": "ipython",
    "version": 3
   },
   "file_extension": ".py",
   "mimetype": "text/x-python",
   "name": "python",
   "nbconvert_exporter": "python",
   "pygments_lexer": "ipython3",
   "version": "3.8.8"
  }
 },
 "nbformat": 4,
 "nbformat_minor": 5
}
